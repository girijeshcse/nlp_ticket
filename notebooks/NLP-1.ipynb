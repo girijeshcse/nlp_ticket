{
 "cells": [
  {
   "cell_type": "code",
   "execution_count": 1,
   "id": "1cdefed5-a004-4797-8ed4-d2595ce09e36",
   "metadata": {},
   "outputs": [],
   "source": [
    "import numpy as np\n",
    "import pandas as pd\n",
    "import seaborn as sns\n",
    "import matplotlib.pyplot as plt\n",
    "%matplotlib inline\n",
    "\n",
    "import string\n",
    "import re\n",
    "\n",
    "#from wordcloud import WordCloud, STOPWORDS\n",
    "import matplotlib.cm as cm\n",
    "\n",
    "import unicodedata"
   ]
  },
  {
   "cell_type": "code",
   "execution_count": 2,
   "id": "7a9db1b9-ff93-4a45-89a7-f273b801d06f",
   "metadata": {},
   "outputs": [
    {
     "name": "stdout",
     "output_type": "stream",
     "text": [
      "Note: you may need to restart the kernel to use updated packages.\n"
     ]
    }
   ],
   "source": [
    "pip install nltk --quiet"
   ]
  },
  {
   "cell_type": "code",
   "execution_count": 3,
   "id": "cab5d3bb-af14-404d-9667-4ae1afcd3929",
   "metadata": {},
   "outputs": [
    {
     "name": "stdout",
     "output_type": "stream",
     "text": [
      "Note: you may need to restart the kernel to use updated packages.\n"
     ]
    }
   ],
   "source": [
    "pip install openpyxl --quiet"
   ]
  },
  {
   "cell_type": "code",
   "execution_count": 4,
   "id": "92142b05-d7e1-4dec-86b9-c064b3f0bae5",
   "metadata": {},
   "outputs": [],
   "source": [
    "import nltk\n",
    "from nltk.corpus import wordnet,stopwords\n",
    "\n",
    "from nltk.stem.porter import PorterStemmer\n",
    "from nltk.stem import WordNetLemmatizer"
   ]
  },
  {
   "cell_type": "code",
   "execution_count": 5,
   "id": "781bf701-5870-4190-a8e2-cc0badd191b8",
   "metadata": {},
   "outputs": [
    {
     "data": {
      "text/html": [
       "<div>\n",
       "<style scoped>\n",
       "    .dataframe tbody tr th:only-of-type {\n",
       "        vertical-align: middle;\n",
       "    }\n",
       "\n",
       "    .dataframe tbody tr th {\n",
       "        vertical-align: top;\n",
       "    }\n",
       "\n",
       "    .dataframe thead th {\n",
       "        text-align: right;\n",
       "    }\n",
       "</style>\n",
       "<table border=\"1\" class=\"dataframe\">\n",
       "  <thead>\n",
       "    <tr style=\"text-align: right;\">\n",
       "      <th></th>\n",
       "      <th>Short description</th>\n",
       "      <th>Description</th>\n",
       "      <th>Caller</th>\n",
       "      <th>Assignment group</th>\n",
       "    </tr>\n",
       "  </thead>\n",
       "  <tbody>\n",
       "    <tr>\n",
       "      <th>0</th>\n",
       "      <td>login issue</td>\n",
       "      <td>-verified user details.(employee# &amp; manager na...</td>\n",
       "      <td>spxjnwir pjlcoqds</td>\n",
       "      <td>GRP_0</td>\n",
       "    </tr>\n",
       "    <tr>\n",
       "      <th>1</th>\n",
       "      <td>outlook</td>\n",
       "      <td>_x000D_\\n_x000D_\\nreceived from: hmjdrvpb.komu...</td>\n",
       "      <td>hmjdrvpb komuaywn</td>\n",
       "      <td>GRP_0</td>\n",
       "    </tr>\n",
       "    <tr>\n",
       "      <th>2</th>\n",
       "      <td>cant log in to vpn</td>\n",
       "      <td>_x000D_\\n_x000D_\\nreceived from: eylqgodm.ybqk...</td>\n",
       "      <td>eylqgodm ybqkwiam</td>\n",
       "      <td>GRP_0</td>\n",
       "    </tr>\n",
       "    <tr>\n",
       "      <th>3</th>\n",
       "      <td>unable to access hr_tool page</td>\n",
       "      <td>unable to access hr_tool page</td>\n",
       "      <td>xbkucsvz gcpydteq</td>\n",
       "      <td>GRP_0</td>\n",
       "    </tr>\n",
       "    <tr>\n",
       "      <th>4</th>\n",
       "      <td>skype error</td>\n",
       "      <td>skype error</td>\n",
       "      <td>owlgqjme qhcozdfx</td>\n",
       "      <td>GRP_0</td>\n",
       "    </tr>\n",
       "  </tbody>\n",
       "</table>\n",
       "</div>"
      ],
      "text/plain": [
       "               Short description  \\\n",
       "0                    login issue   \n",
       "1                        outlook   \n",
       "2             cant log in to vpn   \n",
       "3  unable to access hr_tool page   \n",
       "4                   skype error    \n",
       "\n",
       "                                         Description             Caller  \\\n",
       "0  -verified user details.(employee# & manager na...  spxjnwir pjlcoqds   \n",
       "1  _x000D_\\n_x000D_\\nreceived from: hmjdrvpb.komu...  hmjdrvpb komuaywn   \n",
       "2  _x000D_\\n_x000D_\\nreceived from: eylqgodm.ybqk...  eylqgodm ybqkwiam   \n",
       "3                      unable to access hr_tool page  xbkucsvz gcpydteq   \n",
       "4                                       skype error   owlgqjme qhcozdfx   \n",
       "\n",
       "  Assignment group  \n",
       "0            GRP_0  \n",
       "1            GRP_0  \n",
       "2            GRP_0  \n",
       "3            GRP_0  \n",
       "4            GRP_0  "
      ]
     },
     "execution_count": 5,
     "metadata": {},
     "output_type": "execute_result"
    }
   ],
   "source": [
    "inp_df = pd.read_excel('./input_data.xlsx')\n",
    "inp_df.head()"
   ]
  },
  {
   "cell_type": "code",
   "execution_count": 6,
   "id": "5831667f-225d-4c7c-8e17-145c7d8a0f55",
   "metadata": {},
   "outputs": [
    {
     "data": {
      "text/html": [
       "<div>\n",
       "<style scoped>\n",
       "    .dataframe tbody tr th:only-of-type {\n",
       "        vertical-align: middle;\n",
       "    }\n",
       "\n",
       "    .dataframe tbody tr th {\n",
       "        vertical-align: top;\n",
       "    }\n",
       "\n",
       "    .dataframe thead th {\n",
       "        text-align: right;\n",
       "    }\n",
       "</style>\n",
       "<table border=\"1\" class=\"dataframe\">\n",
       "  <thead>\n",
       "    <tr style=\"text-align: right;\">\n",
       "      <th></th>\n",
       "      <th>Short description</th>\n",
       "      <th>Description</th>\n",
       "      <th>Assignment group</th>\n",
       "    </tr>\n",
       "  </thead>\n",
       "  <tbody>\n",
       "    <tr>\n",
       "      <th>0</th>\n",
       "      <td>login issue</td>\n",
       "      <td>-verified user details.(employee# &amp; manager na...</td>\n",
       "      <td>GRP_0</td>\n",
       "    </tr>\n",
       "    <tr>\n",
       "      <th>1</th>\n",
       "      <td>outlook</td>\n",
       "      <td>_x000D_\\n_x000D_\\nreceived from: hmjdrvpb.komu...</td>\n",
       "      <td>GRP_0</td>\n",
       "    </tr>\n",
       "    <tr>\n",
       "      <th>2</th>\n",
       "      <td>cant log in to vpn</td>\n",
       "      <td>_x000D_\\n_x000D_\\nreceived from: eylqgodm.ybqk...</td>\n",
       "      <td>GRP_0</td>\n",
       "    </tr>\n",
       "    <tr>\n",
       "      <th>3</th>\n",
       "      <td>unable to access hr_tool page</td>\n",
       "      <td>unable to access hr_tool page</td>\n",
       "      <td>GRP_0</td>\n",
       "    </tr>\n",
       "    <tr>\n",
       "      <th>4</th>\n",
       "      <td>skype error</td>\n",
       "      <td>skype error</td>\n",
       "      <td>GRP_0</td>\n",
       "    </tr>\n",
       "  </tbody>\n",
       "</table>\n",
       "</div>"
      ],
      "text/plain": [
       "               Short description  \\\n",
       "0                    login issue   \n",
       "1                        outlook   \n",
       "2             cant log in to vpn   \n",
       "3  unable to access hr_tool page   \n",
       "4                   skype error    \n",
       "\n",
       "                                         Description Assignment group  \n",
       "0  -verified user details.(employee# & manager na...            GRP_0  \n",
       "1  _x000D_\\n_x000D_\\nreceived from: hmjdrvpb.komu...            GRP_0  \n",
       "2  _x000D_\\n_x000D_\\nreceived from: eylqgodm.ybqk...            GRP_0  \n",
       "3                      unable to access hr_tool page            GRP_0  \n",
       "4                                       skype error             GRP_0  "
      ]
     },
     "execution_count": 6,
     "metadata": {},
     "output_type": "execute_result"
    }
   ],
   "source": [
    "inp_df.drop(columns='Caller',inplace=True)\n",
    "inp_df.head()"
   ]
  },
  {
   "cell_type": "code",
   "execution_count": 7,
   "id": "5d5f23e6-db13-4670-9afe-7a8c4e7e3cb9",
   "metadata": {},
   "outputs": [],
   "source": [
    "inp_df.isnull().sum()\n",
    "inp_df.dropna(inplace=True)"
   ]
  },
  {
   "cell_type": "code",
   "execution_count": 8,
   "id": "44e52899-7410-4d54-9151-cfb69093636a",
   "metadata": {},
   "outputs": [
    {
     "data": {
      "text/html": [
       "<div>\n",
       "<style scoped>\n",
       "    .dataframe tbody tr th:only-of-type {\n",
       "        vertical-align: middle;\n",
       "    }\n",
       "\n",
       "    .dataframe tbody tr th {\n",
       "        vertical-align: top;\n",
       "    }\n",
       "\n",
       "    .dataframe thead th {\n",
       "        text-align: right;\n",
       "    }\n",
       "</style>\n",
       "<table border=\"1\" class=\"dataframe\">\n",
       "  <thead>\n",
       "    <tr style=\"text-align: right;\">\n",
       "      <th></th>\n",
       "      <th>Short description</th>\n",
       "      <th>Description</th>\n",
       "      <th>Assignment group</th>\n",
       "    </tr>\n",
       "  </thead>\n",
       "  <tbody>\n",
       "    <tr>\n",
       "      <th>51</th>\n",
       "      <td>call for ecwtrjnq jpecxuty</td>\n",
       "      <td>call for ecwtrjnq jpecxuty</td>\n",
       "      <td>GRP_0</td>\n",
       "    </tr>\n",
       "    <tr>\n",
       "      <th>81</th>\n",
       "      <td>erp SID_34 account locked</td>\n",
       "      <td>erp SID_34 account locked</td>\n",
       "      <td>GRP_0</td>\n",
       "    </tr>\n",
       "    <tr>\n",
       "      <th>123</th>\n",
       "      <td>unable to display expense report</td>\n",
       "      <td>unable to display expense report</td>\n",
       "      <td>GRP_0</td>\n",
       "    </tr>\n",
       "    <tr>\n",
       "      <th>157</th>\n",
       "      <td>ess password reset</td>\n",
       "      <td>ess password reset</td>\n",
       "      <td>GRP_0</td>\n",
       "    </tr>\n",
       "    <tr>\n",
       "      <th>181</th>\n",
       "      <td>unable to connect to vpn</td>\n",
       "      <td>unable to connect to vpn</td>\n",
       "      <td>GRP_19</td>\n",
       "    </tr>\n",
       "    <tr>\n",
       "      <th>...</th>\n",
       "      <td>...</td>\n",
       "      <td>...</td>\n",
       "      <td>...</td>\n",
       "    </tr>\n",
       "    <tr>\n",
       "      <th>8424</th>\n",
       "      <td>windows account lockout</td>\n",
       "      <td>windows account lockout</td>\n",
       "      <td>GRP_0</td>\n",
       "    </tr>\n",
       "    <tr>\n",
       "      <th>8450</th>\n",
       "      <td>unable to connect to wifi</td>\n",
       "      <td>unable to connect to wifi</td>\n",
       "      <td>GRP_0</td>\n",
       "    </tr>\n",
       "    <tr>\n",
       "      <th>8451</th>\n",
       "      <td>password reset erp SID_34</td>\n",
       "      <td>password reset erp SID_34</td>\n",
       "      <td>GRP_0</td>\n",
       "    </tr>\n",
       "    <tr>\n",
       "      <th>8458</th>\n",
       "      <td>windows account locked</td>\n",
       "      <td>windows account locked</td>\n",
       "      <td>GRP_0</td>\n",
       "    </tr>\n",
       "    <tr>\n",
       "      <th>8489</th>\n",
       "      <td>account locked</td>\n",
       "      <td>account locked</td>\n",
       "      <td>GRP_0</td>\n",
       "    </tr>\n",
       "  </tbody>\n",
       "</table>\n",
       "<p>604 rows × 3 columns</p>\n",
       "</div>"
      ],
      "text/plain": [
       "                     Short description                       Description  \\\n",
       "51          call for ecwtrjnq jpecxuty        call for ecwtrjnq jpecxuty   \n",
       "81           erp SID_34 account locked         erp SID_34 account locked   \n",
       "123   unable to display expense report  unable to display expense report   \n",
       "157                 ess password reset                ess password reset   \n",
       "181           unable to connect to vpn          unable to connect to vpn   \n",
       "...                                ...                               ...   \n",
       "8424           windows account lockout           windows account lockout   \n",
       "8450         unable to connect to wifi         unable to connect to wifi   \n",
       "8451         password reset erp SID_34         password reset erp SID_34   \n",
       "8458            windows account locked            windows account locked   \n",
       "8489                    account locked                    account locked   \n",
       "\n",
       "     Assignment group  \n",
       "51              GRP_0  \n",
       "81              GRP_0  \n",
       "123             GRP_0  \n",
       "157             GRP_0  \n",
       "181            GRP_19  \n",
       "...               ...  \n",
       "8424            GRP_0  \n",
       "8450            GRP_0  \n",
       "8451            GRP_0  \n",
       "8458            GRP_0  \n",
       "8489            GRP_0  \n",
       "\n",
       "[604 rows x 3 columns]"
      ]
     },
     "execution_count": 8,
     "metadata": {},
     "output_type": "execute_result"
    }
   ],
   "source": [
    "inp_df[inp_df.duplicated(['Short description', 'Description'])]"
   ]
  },
  {
   "cell_type": "code",
   "execution_count": 9,
   "id": "ace2c18f-c130-498a-aa39-8cea46371c56",
   "metadata": {},
   "outputs": [],
   "source": [
    "inp_df.drop_duplicates(['Short description','Description'],inplace=True)"
   ]
  },
  {
   "cell_type": "code",
   "execution_count": 10,
   "id": "037cca2c-57bb-4378-9c5b-e4b17c7494a3",
   "metadata": {},
   "outputs": [
    {
     "data": {
      "text/plain": [
       "(7887, 3)"
      ]
     },
     "execution_count": 10,
     "metadata": {},
     "output_type": "execute_result"
    }
   ],
   "source": [
    "inp_df.shape"
   ]
  },
  {
   "cell_type": "code",
   "execution_count": 11,
   "id": "7d692611-6157-40cc-8693-f3eb7e7b3f02",
   "metadata": {},
   "outputs": [
    {
     "data": {
      "text/plain": [
       "GRP_0     3421\n",
       "GRP_8      644\n",
       "GRP_24     285\n",
       "GRP_12     255\n",
       "GRP_9      251\n",
       "          ... \n",
       "GRP_67       1\n",
       "GRP_35       1\n",
       "GRP_70       1\n",
       "GRP_73       1\n",
       "GRP_72       1\n",
       "Name: Assignment group, Length: 74, dtype: int64"
      ]
     },
     "execution_count": 11,
     "metadata": {},
     "output_type": "execute_result"
    }
   ],
   "source": [
    "inp_df['Assignment group'].value_counts()"
   ]
  },
  {
   "cell_type": "code",
   "execution_count": 12,
   "id": "ec58f9c7-fbc1-4a78-be11-f2d9d5dcaf8a",
   "metadata": {},
   "outputs": [
    {
     "data": {
      "image/png": "[encoded data removed]",
      "text/plain": [
       "<Figure size 1440x360 with 1 Axes>"
      ]
     },
     "metadata": {
      "needs_background": "light"
     },
     "output_type": "display_data"
    }
   ],
   "source": [
    "#Plot line graph and view counts of each tickets\n",
    "\n",
    "plt.subplots(figsize = (20,5))\n",
    "\n",
    "sns.countplot(x='Assignment group', data=inp_df,order = inp_df['Assignment group'].value_counts().index)\n",
    "plt.xlabel('Assignment Group') \n",
    "plt.ylabel('Count') \n",
    "plt.xticks(rotation=90)\n",
    "plt.title('Tickets Distribution')\n",
    "\n",
    "plt.show()"
   ]
  },
  {
   "cell_type": "code",
   "execution_count": 13,
   "id": "b9cb341c-6833-44d6-aedf-6ece6d306b68",
   "metadata": {},
   "outputs": [
    {
     "data": {
      "text/html": [
       "<div>\n",
       "<style scoped>\n",
       "    .dataframe tbody tr th:only-of-type {\n",
       "        vertical-align: middle;\n",
       "    }\n",
       "\n",
       "    .dataframe tbody tr th {\n",
       "        vertical-align: top;\n",
       "    }\n",
       "\n",
       "    .dataframe thead th {\n",
       "        text-align: right;\n",
       "    }\n",
       "</style>\n",
       "<table border=\"1\" class=\"dataframe\">\n",
       "  <thead>\n",
       "    <tr style=\"text-align: right;\">\n",
       "      <th></th>\n",
       "      <th>Assignment group</th>\n",
       "      <th>Full Description</th>\n",
       "    </tr>\n",
       "  </thead>\n",
       "  <tbody>\n",
       "    <tr>\n",
       "      <th>0</th>\n",
       "      <td>GRP_0</td>\n",
       "      <td>login issue -verified user details.(employee# ...</td>\n",
       "    </tr>\n",
       "    <tr>\n",
       "      <th>1</th>\n",
       "      <td>GRP_0</td>\n",
       "      <td>outlook _x000D_\\n_x000D_\\nreceived from: hmjdr...</td>\n",
       "    </tr>\n",
       "    <tr>\n",
       "      <th>2</th>\n",
       "      <td>GRP_0</td>\n",
       "      <td>cant log in to vpn _x000D_\\n_x000D_\\nreceived ...</td>\n",
       "    </tr>\n",
       "    <tr>\n",
       "      <th>3</th>\n",
       "      <td>GRP_0</td>\n",
       "      <td>unable to access hr_tool page unable to access...</td>\n",
       "    </tr>\n",
       "    <tr>\n",
       "      <th>4</th>\n",
       "      <td>GRP_0</td>\n",
       "      <td>skype error  skype error</td>\n",
       "    </tr>\n",
       "  </tbody>\n",
       "</table>\n",
       "</div>"
      ],
      "text/plain": [
       "  Assignment group                                   Full Description\n",
       "0            GRP_0  login issue -verified user details.(employee# ...\n",
       "1            GRP_0  outlook _x000D_\\n_x000D_\\nreceived from: hmjdr...\n",
       "2            GRP_0  cant log in to vpn _x000D_\\n_x000D_\\nreceived ...\n",
       "3            GRP_0  unable to access hr_tool page unable to access...\n",
       "4            GRP_0                          skype error  skype error "
      ]
     },
     "execution_count": 13,
     "metadata": {},
     "output_type": "execute_result"
    }
   ],
   "source": [
    "inp_df['Full Description'] = inp_df['Short description'] + ' '+ inp_df['Description']\n",
    "inp_df.drop(columns=['Short description','Description'],inplace=True)\n",
    "inp_df.head()"
   ]
  },
  {
   "cell_type": "code",
   "execution_count": 14,
   "id": "c4d30ad9-2aaf-4e5f-bab9-3a09515fd8b0",
   "metadata": {},
   "outputs": [],
   "source": [
    "!pip install langdetect --quiet"
   ]
  },
  {
   "cell_type": "code",
   "execution_count": 15,
   "id": "5cc908f6-396f-45e7-b7f4-16743196dac2",
   "metadata": {},
   "outputs": [],
   "source": [
    "from langdetect import detect\n",
    "inp_df.drop(inp_df[inp_df['Full Description'].apply(lambda x: detect(x) != 'en')].index, inplace = True)"
   ]
  },
  {
   "cell_type": "code",
   "execution_count": 16,
   "id": "c4f1058f-fef8-48e5-b07c-9f34830c0cd3",
   "metadata": {},
   "outputs": [
    {
     "data": {
      "text/plain": [
       "(6662, 2)"
      ]
     },
     "execution_count": 16,
     "metadata": {},
     "output_type": "execute_result"
    }
   ],
   "source": [
    "inp_df.shape"
   ]
  },
  {
   "cell_type": "code",
   "execution_count": 17,
   "id": "d4b7fb4f-a937-484f-8662-54019c04d564",
   "metadata": {},
   "outputs": [],
   "source": [
    "inp_df.reset_index(drop=True, inplace=True)"
   ]
  },
  {
   "cell_type": "code",
   "execution_count": 18,
   "id": "db1bcc4d-b738-48b8-9b69-7590fc123bb6",
   "metadata": {},
   "outputs": [
    {
     "data": {
      "text/html": [
       "<div>\n",
       "<style scoped>\n",
       "    .dataframe tbody tr th:only-of-type {\n",
       "        vertical-align: middle;\n",
       "    }\n",
       "\n",
       "    .dataframe tbody tr th {\n",
       "        vertical-align: top;\n",
       "    }\n",
       "\n",
       "    .dataframe thead th {\n",
       "        text-align: right;\n",
       "    }\n",
       "</style>\n",
       "<table border=\"1\" class=\"dataframe\">\n",
       "  <thead>\n",
       "    <tr style=\"text-align: right;\">\n",
       "      <th></th>\n",
       "      <th>Assignment group</th>\n",
       "      <th>Full Description</th>\n",
       "    </tr>\n",
       "  </thead>\n",
       "  <tbody>\n",
       "    <tr>\n",
       "      <th>0</th>\n",
       "      <td>GRP_0</td>\n",
       "      <td>login issue -verified user details.(employee# ...</td>\n",
       "    </tr>\n",
       "    <tr>\n",
       "      <th>1</th>\n",
       "      <td>GRP_0</td>\n",
       "      <td>outlook _x000D_\\n_x000D_\\nreceived from: hmjdr...</td>\n",
       "    </tr>\n",
       "    <tr>\n",
       "      <th>2</th>\n",
       "      <td>GRP_0</td>\n",
       "      <td>cant log in to vpn _x000D_\\n_x000D_\\nreceived ...</td>\n",
       "    </tr>\n",
       "    <tr>\n",
       "      <th>3</th>\n",
       "      <td>GRP_0</td>\n",
       "      <td>unable to access hr_tool page unable to access...</td>\n",
       "    </tr>\n",
       "    <tr>\n",
       "      <th>4</th>\n",
       "      <td>GRP_0</td>\n",
       "      <td>unable to log in to engineering tool and skype...</td>\n",
       "    </tr>\n",
       "  </tbody>\n",
       "</table>\n",
       "</div>"
      ],
      "text/plain": [
       "  Assignment group                                   Full Description\n",
       "0            GRP_0  login issue -verified user details.(employee# ...\n",
       "1            GRP_0  outlook _x000D_\\n_x000D_\\nreceived from: hmjdr...\n",
       "2            GRP_0  cant log in to vpn _x000D_\\n_x000D_\\nreceived ...\n",
       "3            GRP_0  unable to access hr_tool page unable to access...\n",
       "4            GRP_0  unable to log in to engineering tool and skype..."
      ]
     },
     "execution_count": 18,
     "metadata": {},
     "output_type": "execute_result"
    }
   ],
   "source": [
    "inp_df.head()"
   ]
  },
  {
   "cell_type": "code",
   "execution_count": 19,
   "id": "5e50f6fa-4b82-4ebd-aeda-8180a93d783e",
   "metadata": {},
   "outputs": [
    {
     "name": "stdout",
     "output_type": "stream",
     "text": [
      "/opt/conda/lib/python3.9/runpy.py:127: RuntimeWarning: 'nltk.downloader' found in sys.modules after import of package 'nltk', but prior to execution of 'nltk.downloader'; this may result in unpredictable behaviour\n",
      "  warn(RuntimeWarning(msg))\n",
      "[nltk_data] Downloading package stopwords to /home/jovyan/nltk_data...\n",
      "[nltk_data]   Package stopwords is already up-to-date!\n"
     ]
    }
   ],
   "source": [
    "!python -m nltk.downloader stopwords"
   ]
  },
  {
   "cell_type": "code",
   "execution_count": 20,
   "id": "f6279e23-26e4-41f0-9ef1-bfb33c710cb0",
   "metadata": {},
   "outputs": [],
   "source": [
    "stopwords = set(stopwords.words('english'))"
   ]
  },
  {
   "cell_type": "code",
   "execution_count": 21,
   "id": "90ce90be-8397-4f2f-9b69-178f4659fc44",
   "metadata": {},
   "outputs": [],
   "source": [
    "# Remove non alphabets\n",
    "inp_df['Full Description'] = inp_df['Full Description'].apply(lambda x: re.sub('[^A-Za-z]+', ' ', x))\n",
    "# Convert text to lowercase\n",
    "inp_df['Full Description'] = inp_df['Full Description'].apply(lambda x: x.lower())\n",
    "# Strip unwanted spaces\n",
    "inp_df['Full Description'] = inp_df['Full Description'].apply(lambda x: x.strip())\n",
    "inp_df['Full Description'] = inp_df['Full Description'].apply(lambda x: ' '.join([word for word in x.split() if word not in stopwords]))"
   ]
  },
  {
   "cell_type": "code",
   "execution_count": 22,
   "id": "c72e2336-411f-4247-a645-2780803c3d63",
   "metadata": {},
   "outputs": [
    {
     "data": {
      "text/html": [
       "<div>\n",
       "<style scoped>\n",
       "    .dataframe tbody tr th:only-of-type {\n",
       "        vertical-align: middle;\n",
       "    }\n",
       "\n",
       "    .dataframe tbody tr th {\n",
       "        vertical-align: top;\n",
       "    }\n",
       "\n",
       "    .dataframe thead th {\n",
       "        text-align: right;\n",
       "    }\n",
       "</style>\n",
       "<table border=\"1\" class=\"dataframe\">\n",
       "  <thead>\n",
       "    <tr style=\"text-align: right;\">\n",
       "      <th></th>\n",
       "      <th>Assignment group</th>\n",
       "      <th>Full Description</th>\n",
       "    </tr>\n",
       "  </thead>\n",
       "  <tbody>\n",
       "    <tr>\n",
       "      <th>0</th>\n",
       "      <td>GRP_0</td>\n",
       "      <td>login issue verified user details employee man...</td>\n",
       "    </tr>\n",
       "    <tr>\n",
       "      <th>1</th>\n",
       "      <td>GRP_0</td>\n",
       "      <td>outlook x x received hmjdrvpb komuaywn gmail c...</td>\n",
       "    </tr>\n",
       "    <tr>\n",
       "      <th>2</th>\n",
       "      <td>GRP_0</td>\n",
       "      <td>cant log vpn x x received eylqgodm ybqkwiam gm...</td>\n",
       "    </tr>\n",
       "    <tr>\n",
       "      <th>3</th>\n",
       "      <td>GRP_0</td>\n",
       "      <td>unable access hr tool page unable access hr to...</td>\n",
       "    </tr>\n",
       "    <tr>\n",
       "      <th>4</th>\n",
       "      <td>GRP_0</td>\n",
       "      <td>unable log engineering tool skype unable log e...</td>\n",
       "    </tr>\n",
       "  </tbody>\n",
       "</table>\n",
       "</div>"
      ],
      "text/plain": [
       "  Assignment group                                   Full Description\n",
       "0            GRP_0  login issue verified user details employee man...\n",
       "1            GRP_0  outlook x x received hmjdrvpb komuaywn gmail c...\n",
       "2            GRP_0  cant log vpn x x received eylqgodm ybqkwiam gm...\n",
       "3            GRP_0  unable access hr tool page unable access hr to...\n",
       "4            GRP_0  unable log engineering tool skype unable log e..."
      ]
     },
     "execution_count": 22,
     "metadata": {},
     "output_type": "execute_result"
    }
   ],
   "source": [
    "inp_df.head()"
   ]
  },
  {
   "cell_type": "code",
   "execution_count": 23,
   "id": "35361c9c-c3a3-4c17-bead-49377d7b8fa0",
   "metadata": {},
   "outputs": [],
   "source": [
    "all_words = list()\n",
    "for line in inp_df['Full Description']:\n",
    "    for w in line.split():\n",
    "        all_words.append(w)"
   ]
  },
  {
   "cell_type": "code",
   "execution_count": 24,
   "id": "7619f3c1-e947-4942-a446-3e32aaac7700",
   "metadata": {},
   "outputs": [
    {
     "name": "stdout",
     "output_type": "stream",
     "text": [
      "Size of vocabulary: 13244\n"
     ]
    }
   ],
   "source": [
    "print('Size of vocabulary: {}'.format(len(set(all_words))))"
   ]
  },
  {
   "cell_type": "code",
   "execution_count": 25,
   "id": "b3f7a755-2e77-4e69-9a1a-0c5b5a1d7713",
   "metadata": {},
   "outputs": [],
   "source": [
    "vocab_len = len(set(all_words))"
   ]
  },
  {
   "cell_type": "code",
   "execution_count": 26,
   "id": "21405451-f040-476f-987c-ccfa83b366cf",
   "metadata": {},
   "outputs": [],
   "source": [
    "embeddings_index = {}\n",
    "f = open('../NLP/Project 2/glove.6B.50d.txt') # GLOBAL VECTOR of 50 dimensions\n",
    "for line in f:\n",
    "    values = line.split()\n",
    "    word = values[0]\n",
    "    coefs = np.array(values[1:], dtype=np.float64)\n",
    "    embeddings_index[word] = coefs\n",
    "f.close()"
   ]
  },
  {
   "cell_type": "code",
   "execution_count": 27,
   "id": "df0136bd-4fb6-4091-9036-f1d358a99b9e",
   "metadata": {},
   "outputs": [
    {
     "name": "stderr",
     "output_type": "stream",
     "text": [
      "2022-03-06 01:41:18.871810: I tensorflow/stream_executor/platform/default/dso_loader.cc:53] Successfully opened dynamic library libcudart.so.11.0\n"
     ]
    }
   ],
   "source": [
    "from keras.preprocessing.text import Tokenizer\n",
    "tokenizer = Tokenizer(num_words=20000)\n",
    "tokenizer.fit_on_texts(inp_df['Full Description'])\n",
    "\n",
    "words_to_index = tokenizer.word_index"
   ]
  },
  {
   "cell_type": "code",
   "execution_count": 28,
   "id": "7bac2d8b-be59-4474-83f1-f1388057c702",
   "metadata": {},
   "outputs": [],
   "source": [
    "embed_vector_len = 50\n",
    "\n",
    "emb_matrix = np.zeros((20000, embed_vector_len))\n",
    "for word, index in words_to_index.items():\n",
    "    try:\n",
    "        embedding_vector = embeddings_index[word]\n",
    "    except KeyError:\n",
    "        continue\n",
    "    if embedding_vector is not None:\n",
    "        emb_matrix[index, :] = embedding_vector"
   ]
  },
  {
   "cell_type": "code",
   "execution_count": 29,
   "id": "0411f6a4-649e-4cf6-9801-476803f62a77",
   "metadata": {},
   "outputs": [
    {
     "data": {
      "text/html": [
       "<div>\n",
       "<style scoped>\n",
       "    .dataframe tbody tr th:only-of-type {\n",
       "        vertical-align: middle;\n",
       "    }\n",
       "\n",
       "    .dataframe tbody tr th {\n",
       "        vertical-align: top;\n",
       "    }\n",
       "\n",
       "    .dataframe thead th {\n",
       "        text-align: right;\n",
       "    }\n",
       "</style>\n",
       "<table border=\"1\" class=\"dataframe\">\n",
       "  <thead>\n",
       "    <tr style=\"text-align: right;\">\n",
       "      <th></th>\n",
       "      <th>Assignment group</th>\n",
       "      <th>Full Description</th>\n",
       "    </tr>\n",
       "  </thead>\n",
       "  <tbody>\n",
       "    <tr>\n",
       "      <th>0</th>\n",
       "      <td>GRP_0</td>\n",
       "      <td>login issue verified user details employee man...</td>\n",
       "    </tr>\n",
       "    <tr>\n",
       "      <th>2640</th>\n",
       "      <td>GRP_0</td>\n",
       "      <td>user uthagtpgc outlook issue received rgtarthi...</td>\n",
       "    </tr>\n",
       "    <tr>\n",
       "      <th>5446</th>\n",
       "      <td>GRP_0</td>\n",
       "      <td>mobile device activation shhkioaprhkuoash ms x...</td>\n",
       "    </tr>\n",
       "    <tr>\n",
       "      <th>5445</th>\n",
       "      <td>GRP_0</td>\n",
       "      <td>new user id new user id</td>\n",
       "    </tr>\n",
       "    <tr>\n",
       "      <th>5444</th>\n",
       "      <td>GRP_0</td>\n",
       "      <td>erp sid account lockout erp sid account lockout</td>\n",
       "    </tr>\n",
       "    <tr>\n",
       "      <th>...</th>\n",
       "      <td>...</td>\n",
       "      <td>...</td>\n",
       "    </tr>\n",
       "    <tr>\n",
       "      <th>2363</th>\n",
       "      <td>GRP_9</td>\n",
       "      <td>modify quote performance model model field pk ...</td>\n",
       "    </tr>\n",
       "    <tr>\n",
       "      <th>4257</th>\n",
       "      <td>GRP_9</td>\n",
       "      <td>hana received nealxjbc owjduxai gmail com earl...</td>\n",
       "    </tr>\n",
       "    <tr>\n",
       "      <th>3701</th>\n",
       "      <td>GRP_9</td>\n",
       "      <td>missing data bex productmanagement urgent x x ...</td>\n",
       "    </tr>\n",
       "    <tr>\n",
       "      <th>4728</th>\n",
       "      <td>GRP_9</td>\n",
       "      <td>job job failed job scheduler received monitori...</td>\n",
       "    </tr>\n",
       "    <tr>\n",
       "      <th>5804</th>\n",
       "      <td>GRP_9</td>\n",
       "      <td>hostname reporting engineering tooling product...</td>\n",
       "    </tr>\n",
       "  </tbody>\n",
       "</table>\n",
       "<p>6662 rows × 2 columns</p>\n",
       "</div>"
      ],
      "text/plain": [
       "     Assignment group                                   Full Description\n",
       "0               GRP_0  login issue verified user details employee man...\n",
       "2640            GRP_0  user uthagtpgc outlook issue received rgtarthi...\n",
       "5446            GRP_0  mobile device activation shhkioaprhkuoash ms x...\n",
       "5445            GRP_0                            new user id new user id\n",
       "5444            GRP_0    erp sid account lockout erp sid account lockout\n",
       "...               ...                                                ...\n",
       "2363            GRP_9  modify quote performance model model field pk ...\n",
       "4257            GRP_9  hana received nealxjbc owjduxai gmail com earl...\n",
       "3701            GRP_9  missing data bex productmanagement urgent x x ...\n",
       "4728            GRP_9  job job failed job scheduler received monitori...\n",
       "5804            GRP_9  hostname reporting engineering tooling product...\n",
       "\n",
       "[6662 rows x 2 columns]"
      ]
     },
     "execution_count": 29,
     "metadata": {},
     "output_type": "execute_result"
    }
   ],
   "source": [
    "inp_df.sort_values(by=['Assignment group'])"
   ]
  },
  {
   "cell_type": "code",
   "execution_count": 30,
   "id": "a626157f-2a30-407f-b31b-d93f320ea463",
   "metadata": {},
   "outputs": [],
   "source": [
    "target_count = pd.DataFrame(inp_df['Assignment group'].value_counts())\n",
    "target_count = target_count.T\n",
    "inp_df['Count'] = inp_df.apply(lambda row: target_count[row['Assignment group']] , axis=1)"
   ]
  },
  {
   "cell_type": "code",
   "execution_count": 31,
   "id": "22ce3fb8-cbfd-4199-ae60-05d4b09aa450",
   "metadata": {},
   "outputs": [],
   "source": [
    "inp_df.drop(inp_df[inp_df['Count'] <= 100].index, inplace=True)"
   ]
  },
  {
   "cell_type": "code",
   "execution_count": 32,
   "id": "0cfbeca3-9724-41b3-882e-27516a61ba87",
   "metadata": {},
   "outputs": [],
   "source": [
    "inp_df.reset_index(drop=True, inplace=True)"
   ]
  },
  {
   "cell_type": "code",
   "execution_count": 33,
   "id": "391ab935-9103-4e0c-9156-1a4e5a673b48",
   "metadata": {},
   "outputs": [],
   "source": [
    "from sklearn.preprocessing import LabelEncoder\n",
    "from keras.utils import np_utils\n",
    "le = LabelEncoder()\n",
    "le.fit(inp_df['Assignment group'])\n",
    "inp_df['Assignment group'] = le.transform(inp_df['Assignment group'])"
   ]
  },
  {
   "cell_type": "code",
   "execution_count": 34,
   "id": "047e33c6-4016-4242-a54c-02829dd4b73a",
   "metadata": {},
   "outputs": [
    {
     "data": {
      "text/html": [
       "<div>\n",
       "<style scoped>\n",
       "    .dataframe tbody tr th:only-of-type {\n",
       "        vertical-align: middle;\n",
       "    }\n",
       "\n",
       "    .dataframe tbody tr th {\n",
       "        vertical-align: top;\n",
       "    }\n",
       "\n",
       "    .dataframe thead th {\n",
       "        text-align: right;\n",
       "    }\n",
       "</style>\n",
       "<table border=\"1\" class=\"dataframe\">\n",
       "  <thead>\n",
       "    <tr style=\"text-align: right;\">\n",
       "      <th></th>\n",
       "      <th>Assignment group</th>\n",
       "      <th>Full Description</th>\n",
       "      <th>Count</th>\n",
       "    </tr>\n",
       "  </thead>\n",
       "  <tbody>\n",
       "    <tr>\n",
       "      <th>0</th>\n",
       "      <td>0</td>\n",
       "      <td>login issue verified user details employee man...</td>\n",
       "      <td>2824</td>\n",
       "    </tr>\n",
       "    <tr>\n",
       "      <th>1</th>\n",
       "      <td>0</td>\n",
       "      <td>outlook x x received hmjdrvpb komuaywn gmail c...</td>\n",
       "      <td>2824</td>\n",
       "    </tr>\n",
       "    <tr>\n",
       "      <th>2</th>\n",
       "      <td>0</td>\n",
       "      <td>cant log vpn x x received eylqgodm ybqkwiam gm...</td>\n",
       "      <td>2824</td>\n",
       "    </tr>\n",
       "    <tr>\n",
       "      <th>3</th>\n",
       "      <td>0</td>\n",
       "      <td>unable access hr tool page unable access hr to...</td>\n",
       "      <td>2824</td>\n",
       "    </tr>\n",
       "    <tr>\n",
       "      <th>4</th>\n",
       "      <td>0</td>\n",
       "      <td>unable log engineering tool skype unable log e...</td>\n",
       "      <td>2824</td>\n",
       "    </tr>\n",
       "  </tbody>\n",
       "</table>\n",
       "</div>"
      ],
      "text/plain": [
       "   Assignment group                                   Full Description  Count\n",
       "0                 0  login issue verified user details employee man...   2824\n",
       "1                 0  outlook x x received hmjdrvpb komuaywn gmail c...   2824\n",
       "2                 0  cant log vpn x x received eylqgodm ybqkwiam gm...   2824\n",
       "3                 0  unable access hr tool page unable access hr to...   2824\n",
       "4                 0  unable log engineering tool skype unable log e...   2824"
      ]
     },
     "execution_count": 34,
     "metadata": {},
     "output_type": "execute_result"
    }
   ],
   "source": [
    "inp_df.head()"
   ]
  },
  {
   "cell_type": "code",
   "execution_count": 35,
   "id": "f72eac80-97c5-4629-838f-d4c873cac8e3",
   "metadata": {},
   "outputs": [],
   "source": [
    "inp_df.drop(['Count'], axis=1, inplace=True)"
   ]
  },
  {
   "cell_type": "code",
   "execution_count": 36,
   "id": "276393f7-9ba5-40ee-b3e0-e53bc644b0f6",
   "metadata": {},
   "outputs": [
    {
     "data": {
      "text/html": [
       "<div>\n",
       "<style scoped>\n",
       "    .dataframe tbody tr th:only-of-type {\n",
       "        vertical-align: middle;\n",
       "    }\n",
       "\n",
       "    .dataframe tbody tr th {\n",
       "        vertical-align: top;\n",
       "    }\n",
       "\n",
       "    .dataframe thead th {\n",
       "        text-align: right;\n",
       "    }\n",
       "</style>\n",
       "<table border=\"1\" class=\"dataframe\">\n",
       "  <thead>\n",
       "    <tr style=\"text-align: right;\">\n",
       "      <th></th>\n",
       "      <th>Assignment group</th>\n",
       "      <th>Full Description</th>\n",
       "    </tr>\n",
       "  </thead>\n",
       "  <tbody>\n",
       "    <tr>\n",
       "      <th>0</th>\n",
       "      <td>0</td>\n",
       "      <td>login issue verified user details employee man...</td>\n",
       "    </tr>\n",
       "    <tr>\n",
       "      <th>1</th>\n",
       "      <td>0</td>\n",
       "      <td>outlook x x received hmjdrvpb komuaywn gmail c...</td>\n",
       "    </tr>\n",
       "    <tr>\n",
       "      <th>2</th>\n",
       "      <td>0</td>\n",
       "      <td>cant log vpn x x received eylqgodm ybqkwiam gm...</td>\n",
       "    </tr>\n",
       "    <tr>\n",
       "      <th>3</th>\n",
       "      <td>0</td>\n",
       "      <td>unable access hr tool page unable access hr to...</td>\n",
       "    </tr>\n",
       "    <tr>\n",
       "      <th>4</th>\n",
       "      <td>0</td>\n",
       "      <td>unable log engineering tool skype unable log e...</td>\n",
       "    </tr>\n",
       "  </tbody>\n",
       "</table>\n",
       "</div>"
      ],
      "text/plain": [
       "   Assignment group                                   Full Description\n",
       "0                 0  login issue verified user details employee man...\n",
       "1                 0  outlook x x received hmjdrvpb komuaywn gmail c...\n",
       "2                 0  cant log vpn x x received eylqgodm ybqkwiam gm...\n",
       "3                 0  unable access hr tool page unable access hr to...\n",
       "4                 0  unable log engineering tool skype unable log e..."
      ]
     },
     "execution_count": 36,
     "metadata": {},
     "output_type": "execute_result"
    }
   ],
   "source": [
    "inp_df.head()"
   ]
  },
  {
   "cell_type": "code",
   "execution_count": 37,
   "id": "b099fb84-71a2-4c0d-a2cb-c177c8f0d1a8",
   "metadata": {},
   "outputs": [],
   "source": [
    "from sklearn.model_selection import train_test_split\n",
    "X_train, X_test, y_train, y_test = train_test_split(inp_df['Full Description'], inp_df['Assignment group'], \n",
    "    test_size=0.15, random_state=0)"
   ]
  },
  {
   "cell_type": "code",
   "execution_count": 38,
   "id": "144964c8-fda6-46f5-b831-99dc0aa6cba1",
   "metadata": {},
   "outputs": [
    {
     "data": {
      "text/plain": [
       "4106"
      ]
     },
     "execution_count": 38,
     "metadata": {},
     "output_type": "execute_result"
    }
   ],
   "source": [
    "len(inp_df[inp_df['Full Description'].apply(lambda x: len(x.split()) > 10)])"
   ]
  },
  {
   "cell_type": "code",
   "execution_count": 39,
   "id": "430a581e-ddf9-43b3-b67a-0670fa965146",
   "metadata": {},
   "outputs": [],
   "source": [
    "maxLen = 10"
   ]
  },
  {
   "cell_type": "code",
   "execution_count": 40,
   "id": "29c70e61-d708-4fab-be8c-6d1e73843cfe",
   "metadata": {},
   "outputs": [],
   "source": [
    "from keras.models import Sequential\n",
    "from keras.layers import LSTM\n",
    "from keras.layers import Dense\n",
    "from keras.layers import TimeDistributed\n",
    "from keras.layers import Bidirectional"
   ]
  },
  {
   "cell_type": "code",
   "execution_count": 51,
   "id": "7fccb36b-6324-445d-aed3-6b61707904a2",
   "metadata": {},
   "outputs": [
    {
     "name": "stdout",
     "output_type": "stream",
     "text": [
      "Model: \"sequential_2\"\n",
      "_________________________________________________________________\n",
      "Layer (type)                 Output Shape              Param #   \n",
      "=================================================================\n",
      "embedding_2 (Embedding)      (None, 10, 50)            1000000   \n",
      "_________________________________________________________________\n",
      "bidirectional_4 (Bidirection (None, 10, 64)            21248     \n",
      "_________________________________________________________________\n",
      "bidirectional_5 (Bidirection (None, 128)               66048     \n",
      "_________________________________________________________________\n",
      "dropout_2 (Dropout)          (None, 128)               0         \n",
      "_________________________________________________________________\n",
      "dense_4 (Dense)              (None, 256)               33024     \n",
      "_________________________________________________________________\n",
      "dense_5 (Dense)              (None, 12)                3084      \n",
      "=================================================================\n",
      "Total params: 1,123,404\n",
      "Trainable params: 123,404\n",
      "Non-trainable params: 1,000,000\n",
      "_________________________________________________________________\n"
     ]
    }
   ],
   "source": [
    "# create model \n",
    "import tensorflow as tf\n",
    "model = tf.keras.Sequential([\n",
    "    \n",
    "    tf.keras.layers.Embedding(20000, embed_vector_len, input_length=maxLen, weights = [emb_matrix], trainable=False),\n",
    "    \n",
    "    # add the bi-lstm layer\n",
    "    tf.keras.layers.Bidirectional(tf.keras.layers.LSTM(32, return_sequences=True)),\n",
    "    \n",
    "    # add another bi-lstm layer\n",
    "    tf.keras.layers.Bidirectional(tf.keras.layers.LSTM(64), input_shape=(10, 50)),\n",
    "    \n",
    "    # add dropout layer to prevent overfitting\n",
    "    tf.keras.layers.Dropout(0.2),\n",
    "    \n",
    "    # add a dense layer\n",
    "    tf.keras.layers.Dense(256, activation=tf.keras.activations.relu),\n",
    "    \n",
    "    # add the prediction layer\n",
    "    tf.keras.layers.Dense(len(np.unique(inp_df['Assignment group'])), activation = tf.keras.activations.softmax),\n",
    "])\n",
    "\n",
    "model.compile(loss = 'sparse_categorical_crossentropy' , optimizer = tf.keras.optimizers.Adam(), metrics = ['accuracy'])\n",
    "\n",
    "model.summary()"
   ]
  },
  {
   "cell_type": "code",
   "execution_count": 42,
   "id": "a3a5a48b-11de-4fb6-9225-5916567208f0",
   "metadata": {},
   "outputs": [],
   "source": [
    "from keras.preprocessing.sequence import pad_sequences\n",
    "X_train_indices = tokenizer.texts_to_sequences(X_train)\n",
    "\n",
    "X_train_indices = pad_sequences(X_train_indices, maxlen=maxLen, padding='post')"
   ]
  },
  {
   "cell_type": "code",
   "execution_count": null,
   "id": "0087f470-a420-4d6d-a360-ece030046a6f",
   "metadata": {},
   "outputs": [
    {
     "name": "stdout",
     "output_type": "stream",
     "text": [
      "Epoch 1/10\n",
      "447/447 [==============================] - 3s 6ms/step - loss: 0.7770 - accuracy: 0.7322\n",
      "Epoch 2/10\n",
      "447/447 [==============================] - 3s 6ms/step - loss: 0.7224 - accuracy: 0.7569\n",
      "Epoch 3/10\n",
      "447/447 [==============================] - 3s 6ms/step - loss: 0.6705 - accuracy: 0.7701\n",
      "Epoch 4/10\n",
      "447/447 [==============================] - 3s 6ms/step - loss: 0.6100 - accuracy: 0.7797\n",
      "Epoch 5/10\n",
      "447/447 [==============================] - 3s 6ms/step - loss: 0.5612 - accuracy: 0.8013\n",
      "Epoch 6/10\n",
      "447/447 [==============================] - 3s 6ms/step - loss: 0.5130 - accuracy: 0.8107\n",
      "Epoch 7/10\n",
      "447/447 [==============================] - 3s 6ms/step - loss: 0.4580 - accuracy: 0.8326\n",
      "Epoch 8/10\n",
      "447/447 [==============================] - 3s 6ms/step - loss: 0.4107 - accuracy: 0.8441\n",
      "Epoch 9/10\n",
      "447/447 [==============================] - 3s 7ms/step - loss: 0.3972 - accuracy: 0.8508\n",
      "Epoch 10/10\n",
      "303/447 [===================>..........] - ETA: 0s - loss: 0.3616 - accuracy: 0.8677"
     ]
    }
   ],
   "source": [
    "model.fit(X_train_indices, y_train, epochs=10, batch_size=10)"
   ]
  },
  {
   "cell_type": "code",
   "execution_count": null,
   "id": "967c24fa-e1f8-4562-90d2-9b164385a58a",
   "metadata": {},
   "outputs": [],
   "source": []
  }
 ],
 "metadata": {
  "kernelspec": {
   "display_name": "Python 3 (ipykernel)",
   "language": "python",
   "name": "python3"
  },
  "language_info": {
   "codemirror_mode": {
    "name": "ipython",
    "version": 3
   },
   "file_extension": ".py",
   "mimetype": "text/x-python",
   "name": "python",
   "nbconvert_exporter": "python",
   "pygments_lexer": "ipython3",
   "version": "3.9.7"
  }
 },
 "nbformat": 4,
 "nbformat_minor": 5
}
